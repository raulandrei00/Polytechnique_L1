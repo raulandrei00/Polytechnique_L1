{
 "cells": [
  {
   "cell_type": "code",
   "execution_count": 1,
   "metadata": {},
   "outputs": [
    {
     "name": "stdout",
     "output_type": "stream",
     "text": [
      "1\n"
     ]
    }
   ],
   "source": [
    "a = \"eoribhvspovb\"\n",
    "\n",
    "print (a.find('o'))"
   ]
  },
  {
   "cell_type": "code",
   "execution_count": 4,
   "metadata": {},
   "outputs": [
    {
     "name": "stdout",
     "output_type": "stream",
     "text": [
      "eribhvspovb\n"
     ]
    }
   ],
   "source": [
    "a = a[0:a.find('o')] + a[a.find('o')+1::]\n",
    "\n",
    "print (a)"
   ]
  },
  {
   "cell_type": "code",
   "execution_count": 5,
   "metadata": {},
   "outputs": [],
   "source": [
    "def is_in_dictionary (word , dictionary):\n",
    "    return word in dictionary"
   ]
  },
  {
   "cell_type": "code",
   "execution_count": 6,
   "metadata": {},
   "outputs": [
    {
     "data": {
      "text/plain": [
       "True"
      ]
     },
     "execution_count": 6,
     "metadata": {},
     "output_type": "execute_result"
    }
   ],
   "source": [
    "is_in_dictionary ('apple' , ['apple' , 'banan' , 'magnan'])"
   ]
  },
  {
   "cell_type": "code",
   "execution_count": 7,
   "metadata": {},
   "outputs": [
    {
     "data": {
      "text/plain": [
       "False"
      ]
     },
     "execution_count": 7,
     "metadata": {},
     "output_type": "execute_result"
    }
   ],
   "source": [
    "is_in_dictionary (\"mata\" , [\"tactu\" , \"sugi\"])"
   ]
  },
  {
   "cell_type": "code",
   "execution_count": 8,
   "metadata": {},
   "outputs": [
    {
     "data": {
      "text/plain": [
       "False"
      ]
     },
     "execution_count": 8,
     "metadata": {},
     "output_type": "execute_result"
    }
   ],
   "source": [
    "is_in_dictionary(\"cat\", [\"dog\", \"catastrophy\", \"cow\"])"
   ]
  },
  {
   "cell_type": "code",
   "execution_count": 48,
   "metadata": {},
   "outputs": [],
   "source": [
    "def clean (x):\n",
    "    x = x.split('\\n')[0]\n",
    "    return x\n",
    "\n",
    "def read_dictionary (filename):\n",
    "    with open (filename , 'r') as file:\n",
    "        \n",
    "        ret = file.read()\n",
    "      #  print(type(ret))\n",
    "        ret = ret.split(' ')\n",
    "\n",
    "        dic = []\n",
    "        \n",
    "        for x in ret:\n",
    "            x = x.split('\\n')\n",
    "            for y in x:\n",
    "                if y != '':\n",
    "                    dic.append(y)\n",
    "                \n",
    "        \n",
    "        \n",
    "    return dic"
   ]
  },
  {
   "cell_type": "code",
   "execution_count": 49,
   "metadata": {},
   "outputs": [
    {
     "name": "stdout",
     "output_type": "stream",
     "text": [
      "<class 'str'>\n"
     ]
    },
    {
     "data": {
      "text/plain": [
       "['dog', 'cat', 'cow']"
      ]
     },
     "execution_count": 49,
     "metadata": {},
     "output_type": "execute_result"
    }
   ],
   "source": [
    "read_dictionary(\"dict1.txt\")"
   ]
  },
  {
   "cell_type": "code",
   "execution_count": 50,
   "metadata": {},
   "outputs": [
    {
     "name": "stdout",
     "output_type": "stream",
     "text": [
      "<class 'str'>\n"
     ]
    },
    {
     "data": {
      "text/plain": [
       "['people', 'history', 'way', 'art', 'world']"
      ]
     },
     "execution_count": 50,
     "metadata": {},
     "output_type": "execute_result"
    }
   ],
   "source": [
    "read_dictionary(\"dict2.txt\")[:5]"
   ]
  },
  {
   "cell_type": "code",
   "execution_count": 51,
   "metadata": {},
   "outputs": [],
   "source": [
    "def is_constructable (target , source):\n",
    "    ok = True\n",
    "    for let in target:\n",
    "        if source.count(let) < target.count(let):\n",
    "            ok = False\n",
    "    return ok\n",
    "\n"
   ]
  },
  {
   "cell_type": "code",
   "execution_count": 52,
   "metadata": {},
   "outputs": [
    {
     "data": {
      "text/plain": [
       "True"
      ]
     },
     "execution_count": 52,
     "metadata": {},
     "output_type": "execute_result"
    }
   ],
   "source": [
    "is_constructable(\"cat\", \"mathematics\")\n",
    "is_constructable(\"catch\", \"mathematics\")\n",
    "is_constructable(\"mamama\", \"mathematics\")\n",
    "is_constructable(\"ratio\", \"algorithm\")"
   ]
  },
  {
   "cell_type": "code",
   "execution_count": 53,
   "metadata": {},
   "outputs": [
    {
     "data": {
      "text/plain": [
       "False"
      ]
     },
     "execution_count": 53,
     "metadata": {},
     "output_type": "execute_result"
    }
   ],
   "source": [
    "is_constructable(\"catch\", \"mathematics\")"
   ]
  },
  {
   "cell_type": "code",
   "execution_count": 54,
   "metadata": {},
   "outputs": [
    {
     "data": {
      "text/plain": [
       "True"
      ]
     },
     "execution_count": 54,
     "metadata": {},
     "output_type": "execute_result"
    }
   ],
   "source": [
    "is_constructable(\"ratio\", \"algorithm\")"
   ]
  },
  {
   "cell_type": "code",
   "execution_count": 71,
   "metadata": {},
   "outputs": [],
   "source": [
    "def one_round(mainword, found, dictionary):\n",
    "    print (f\"Please construct a new word from the letters of the word {mainword}:\")\n",
    "    resp = input()\n",
    "    if (resp == '!'):\n",
    "        return -1\n",
    "    elif (resp == mainword):\n",
    "        print(\"Let's try something more interesting!\")\n",
    "        return 0\n",
    "    elif (not resp in dictionary):\n",
    "        print(\"I do not know this word!\")\n",
    "        return 0\n",
    "    elif (resp in found):\n",
    "        print(\"You have already found this word!\")\n",
    "        return 0\n",
    "    elif (not is_constructable(resp , mainword)):\n",
    "        print(\"Not enough letters!\")\n",
    "        return 0\n",
    "    else:\n",
    "        found.append(resp)\n",
    "        print(f\"Good job, you have earned {len(resp)} points\")\n",
    "        return len(resp)\n",
    "\n"
   ]
  },
  {
   "cell_type": "code",
   "execution_count": 63,
   "metadata": {},
   "outputs": [
    {
     "name": "stdout",
     "output_type": "stream",
     "text": [
      "<class 'str'>\n"
     ]
    }
   ],
   "source": [
    "dictionary = read_dictionary(\"dict2.txt\")"
   ]
  },
  {
   "cell_type": "code",
   "execution_count": 64,
   "metadata": {},
   "outputs": [],
   "source": [
    "found = []"
   ]
  },
  {
   "cell_type": "code",
   "execution_count": 65,
   "metadata": {},
   "outputs": [
    {
     "name": "stdout",
     "output_type": "stream",
     "text": [
      "Good job, you have earned 3 points\n"
     ]
    },
    {
     "data": {
      "text/plain": [
       "3"
      ]
     },
     "execution_count": 65,
     "metadata": {},
     "output_type": "execute_result"
    }
   ],
   "source": [
    "one_round(\"mathematics\", found, dictionary)"
   ]
  },
  {
   "cell_type": "code",
   "execution_count": 66,
   "metadata": {},
   "outputs": [
    {
     "name": "stdout",
     "output_type": "stream",
     "text": [
      "You have already found this word!\n"
     ]
    },
    {
     "data": {
      "text/plain": [
       "0"
      ]
     },
     "execution_count": 66,
     "metadata": {},
     "output_type": "execute_result"
    }
   ],
   "source": [
    "one_round(\"mathematics\", found, dictionary)\n"
   ]
  },
  {
   "cell_type": "code",
   "execution_count": 67,
   "metadata": {},
   "outputs": [
    {
     "name": "stdout",
     "output_type": "stream",
     "text": [
      "I do not know this word!\n"
     ]
    },
    {
     "data": {
      "text/plain": [
       "0"
      ]
     },
     "execution_count": 67,
     "metadata": {},
     "output_type": "execute_result"
    }
   ],
   "source": [
    "one_round(\"mathematics\", found, dictionary)"
   ]
  },
  {
   "cell_type": "code",
   "execution_count": 70,
   "metadata": {},
   "outputs": [
    {
     "data": {
      "text/plain": [
       "-1"
      ]
     },
     "execution_count": 70,
     "metadata": {},
     "output_type": "execute_result"
    }
   ],
   "source": [
    "one_round(\"mathematics\", found, dictionary)"
   ]
  },
  {
   "cell_type": "code",
   "execution_count": 78,
   "metadata": {},
   "outputs": [],
   "source": [
    "def play_game(mainword, dictionary):\n",
    "    found = []\n",
    "    s = one_round(mainword, found, dictionary)\n",
    "    sum = 0\n",
    "    while (s != -1):\n",
    "        sum += s\n",
    "        s = one_round(mainword, found, dictionary)\n",
    "    print_words = ''\n",
    "\n",
    "    for word in found:\n",
    "        print_words += word + ','\n",
    "\n",
    "    print_words = print_words[:len(print_words)-1:]\n",
    "\n",
    "    print (f\"You have constructed: {print_words}\\nTotal score: {sum}\")\n",
    "    "
   ]
  },
  {
   "cell_type": "code",
   "execution_count": 79,
   "metadata": {},
   "outputs": [
    {
     "name": "stdout",
     "output_type": "stream",
     "text": [
      "<class 'str'>\n",
      "Please construct a new word from the letters of the word mathematics:\n",
      "Good job, you have earned 3 points\n",
      "Please construct a new word from the letters of the word mathematics:\n",
      "Good job, you have earned 4 points\n",
      "Please construct a new word from the letters of the word mathematics:\n",
      "You have constructed: cat,math\n",
      "Total score: 7\n"
     ]
    }
   ],
   "source": [
    "play_game(\"mathematics\" , read_dictionary('dict2.txt'))"
   ]
  },
  {
   "cell_type": "code",
   "execution_count": 85,
   "metadata": {},
   "outputs": [],
   "source": [
    "def superplayer(mainword, dictionary):\n",
    "    word_list = []\n",
    "    score = 0\n",
    "    \n",
    "    for word in dictionary:\n",
    "        if (is_constructable(word , mainword)):\n",
    "            score += len(word)\n",
    "            word_list.append(word)\n",
    "    return (word_list , score)"
   ]
  },
  {
   "cell_type": "code",
   "execution_count": 88,
   "metadata": {},
   "outputs": [
    {
     "name": "stdout",
     "output_type": "stream",
     "text": [
      "<class 'str'>\n"
     ]
    },
    {
     "data": {
      "text/plain": [
       "(['card', 'bad', 'car', 'bar'], 13)"
      ]
     },
     "execution_count": 88,
     "metadata": {},
     "output_type": "execute_result"
    }
   ],
   "source": [
    "superplayer(\"abracadabra\" , read_dictionary(\"dict2.txt\"))"
   ]
  },
  {
   "cell_type": "code",
   "execution_count": 131,
   "metadata": {},
   "outputs": [
    {
     "name": "stdout",
     "output_type": "stream",
     "text": [
      "['A', 'B', 'C', 'D', 'E', 'F', 'G', 'H', 'I', 'J', 'K', 'L', 'M', 'N', 'O', 'P', 'Q', 'R', 'S', 'T', 'U', 'V', 'W', 'X', 'Y', 'Z']\n"
     ]
    }
   ],
   "source": [
    "\n",
    "\n",
    "def cringe (let):\n",
    "    if let == 'q':\n",
    "        return 'Q'\n",
    "    if let == 'w':\n",
    "        return 'W'\n",
    "    if let == 'e':\n",
    "        return 'E'\n",
    "    if let == 'r':\n",
    "        return 'R'\n",
    "    if let == 't':\n",
    "        return 'T'\n",
    "    if let == 'y':\n",
    "        return 'Y'\n",
    "    if let == 'u':\n",
    "        return 'U'\n",
    "    if let == 'i':\n",
    "        return 'I'\n",
    "    if let == 'o':\n",
    "        return 'O'\n",
    "    if let == 'p':\n",
    "        return 'P'\n",
    "    if let == 'a':\n",
    "        return 'A'\n",
    "    if let == 's':\n",
    "        return 'S'\n",
    "    if let == 'd':\n",
    "        return 'D'\n",
    "    if let == 'f':\n",
    "        return 'F'\n",
    "    if let == 'g':\n",
    "        return 'G'\n",
    "    if let == 'h':\n",
    "        return 'H'\n",
    "    if let == 'j':\n",
    "        return 'J'\n",
    "    if let == 'k':\n",
    "        return 'K'\n",
    "    if let == 'l':\n",
    "        return 'L'\n",
    "    if let == 'z':\n",
    "        return 'Z'\n",
    "    if let == 'x':\n",
    "        return 'X'\n",
    "    if let == 'c':\n",
    "        return 'C'\n",
    "    if let == 'v':\n",
    "        return 'V'\n",
    "    if let == 'b':\n",
    "        return 'B'\n",
    "    if let == 'n':\n",
    "        return 'N'\n",
    "    if let == 'm':\n",
    "        return 'M'\n",
    "\n",
    "\n",
    "def is_constructable2(target, source):\n",
    "    need = dict()\n",
    "    if (not is_constructable(target , source)):\n",
    "        return None\n",
    "    else:\n",
    "        for let in target:\n",
    "            need[let] = 0\n",
    "        for let in source:\n",
    "            need[let] = 0\n",
    "        for let in target:\n",
    "            need[let] = need[let] + 1\n",
    "        ret = str()\n",
    "        for let in source:\n",
    "            if need[let] > 0:\n",
    "                ret += cringe(let)\n",
    "                need[let] = need[let] - 1\n",
    "            else:\n",
    "                ret += let\n",
    "        return ret"
   ]
  },
  {
   "cell_type": "code",
   "execution_count": 113,
   "metadata": {},
   "outputs": [
    {
     "ename": "TypeError",
     "evalue": "unsupported operand type(s) for -: 'str' and 'int'",
     "output_type": "error",
     "traceback": [
      "\u001b[0;31m---------------------------------------------------------------------------\u001b[0m",
      "\u001b[0;31mTypeError\u001b[0m                                 Traceback (most recent call last)",
      "Cell \u001b[0;32mIn[113], line 1\u001b[0m\n\u001b[0;32m----> 1\u001b[0m \u001b[43mis_constructable2\u001b[49m\u001b[43m(\u001b[49m\u001b[38;5;124;43m\"\u001b[39;49m\u001b[38;5;124;43mcat\u001b[39;49m\u001b[38;5;124;43m\"\u001b[39;49m\u001b[43m,\u001b[49m\u001b[43m \u001b[49m\u001b[38;5;124;43m\"\u001b[39;49m\u001b[38;5;124;43mmathematics\u001b[39;49m\u001b[38;5;124;43m\"\u001b[39;49m\u001b[43m)\u001b[49m\n",
      "Cell \u001b[0;32mIn[112], line 15\u001b[0m, in \u001b[0;36mis_constructable2\u001b[0;34m(target, source)\u001b[0m\n\u001b[1;32m     13\u001b[0m \u001b[38;5;28;01mfor\u001b[39;00m let \u001b[38;5;129;01min\u001b[39;00m source:\n\u001b[1;32m     14\u001b[0m     \u001b[38;5;28;01mif\u001b[39;00m need[let] \u001b[38;5;241m>\u001b[39m \u001b[38;5;241m0\u001b[39m:\n\u001b[0;32m---> 15\u001b[0m         ret \u001b[38;5;241m+\u001b[39m\u001b[38;5;241m=\u001b[39m \u001b[43mlet\u001b[49m\u001b[43m \u001b[49m\u001b[38;5;241;43m-\u001b[39;49m\u001b[43m \u001b[49m\u001b[38;5;241;43m27\u001b[39;49m\n\u001b[1;32m     16\u001b[0m         need[let] \u001b[38;5;241m=\u001b[39m need[let] \u001b[38;5;241m-\u001b[39m \u001b[38;5;241m1\u001b[39m\n\u001b[1;32m     17\u001b[0m     \u001b[38;5;28;01melse\u001b[39;00m:\n",
      "\u001b[0;31mTypeError\u001b[0m: unsupported operand type(s) for -: 'str' and 'int'"
     ]
    }
   ],
   "source": [
    "is_constructable2(\"cat\", \"mathematics\")"
   ]
  },
  {
   "cell_type": "code",
   "execution_count": 132,
   "metadata": {},
   "outputs": [
    {
     "name": "stdout",
     "output_type": "stream",
     "text": [
      "<class 'str'>\n"
     ]
    },
    {
     "data": {
      "text/plain": [
       "['dog', 'cat', 'cow']"
      ]
     },
     "execution_count": 132,
     "metadata": {},
     "output_type": "execute_result"
    }
   ],
   "source": [
    "read_dictionary(\"dict1.txt\")"
   ]
  },
  {
   "cell_type": "code",
   "execution_count": 127,
   "metadata": {},
   "outputs": [],
   "source": [
    "\n",
    "\n",
    "import string\n"
   ]
  },
  {
   "cell_type": "code",
   "execution_count": 128,
   "metadata": {},
   "outputs": [
    {
     "ename": "NameError",
     "evalue": "name 'upper_case' is not defined",
     "output_type": "error",
     "traceback": [
      "\u001b[0;31m---------------------------------------------------------------------------\u001b[0m",
      "\u001b[0;31mNameError\u001b[0m                                 Traceback (most recent call last)",
      "Cell \u001b[0;32mIn[128], line 1\u001b[0m\n\u001b[0;32m----> 1\u001b[0m \u001b[43mupper_case\u001b[49m(\u001b[38;5;124m'\u001b[39m\u001b[38;5;124mh\u001b[39m\u001b[38;5;124m'\u001b[39m)\n\u001b[1;32m      2\u001b[0m lower_case(\u001b[38;5;124m'\u001b[39m\u001b[38;5;124mh\u001b[39m\u001b[38;5;124m'\u001b[39m)\n",
      "\u001b[0;31mNameError\u001b[0m: name 'upper_case' is not defined"
     ]
    }
   ],
   "source": [
    "# upper_case('h')\n",
    "# lower_case('h')"
   ]
  },
  {
   "cell_type": "code",
   "execution_count": 133,
   "metadata": {},
   "outputs": [
    {
     "data": {
      "text/plain": [
       "'mAThematiCs'"
      ]
     },
     "execution_count": 133,
     "metadata": {},
     "output_type": "execute_result"
    }
   ],
   "source": [
    "is_constructable2(\"cat\", \"mathematics\")"
   ]
  },
  {
   "cell_type": "code",
   "execution_count": 134,
   "metadata": {},
   "outputs": [
    {
     "data": {
      "text/plain": [
       "'AbRaCaDabra'"
      ]
     },
     "execution_count": 134,
     "metadata": {},
     "output_type": "execute_result"
    }
   ],
   "source": [
    "is_constructable2(\"card\", \"abracadabra\")"
   ]
  },
  {
   "cell_type": "code",
   "execution_count": null,
   "metadata": {},
   "outputs": [],
   "source": []
  }
 ],
 "metadata": {
  "kernelspec": {
   "display_name": "Python 3",
   "language": "python",
   "name": "python3"
  },
  "language_info": {
   "codemirror_mode": {
    "name": "ipython",
    "version": 3
   },
   "file_extension": ".py",
   "mimetype": "text/x-python",
   "name": "python",
   "nbconvert_exporter": "python",
   "pygments_lexer": "ipython3",
   "version": "3.9.18"
  }
 },
 "nbformat": 4,
 "nbformat_minor": 2
}
